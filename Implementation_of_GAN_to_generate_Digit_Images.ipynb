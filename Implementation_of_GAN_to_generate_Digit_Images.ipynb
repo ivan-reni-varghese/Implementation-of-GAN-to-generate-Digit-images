{
  "nbformat": 4,
  "nbformat_minor": 0,
  "metadata": {
    "colab": {
      "provenance": [],
      "gpuType": "T4",
      "authorship_tag": "ABX9TyOJOim5ea0wpu7d1p0kPpJi"
    },
    "kernelspec": {
      "name": "python3",
      "display_name": "Python 3"
    },
    "language_info": {
      "name": "python"
    },
    "accelerator": "GPU"
  },
  "cells": [
    {
      "cell_type": "code",
      "source": [
        "import pandas as pd\n",
        "import numpy as np\n",
        "import matplotlib.pyplot as plt"
      ],
      "metadata": {
        "id": "Dh1hEkuQWOEI"
      },
      "execution_count": 8,
      "outputs": []
    },
    {
      "cell_type": "code",
      "source": [
        "from tensorflow.keras.datasets import mnist"
      ],
      "metadata": {
        "id": "FpmH0yjSowyp"
      },
      "execution_count": 38,
      "outputs": []
    },
    {
      "cell_type": "code",
      "source": [
        "(X_train,y_train),(X_test,Y_test) = mnist.load_data()"
      ],
      "metadata": {
        "colab": {
          "base_uri": "https://localhost:8080/"
        },
        "id": "y2Ap1e5Vo4dw",
        "outputId": "a9198cdc-da7c-4a3d-c53d-779caf3feb74"
      },
      "execution_count": 39,
      "outputs": [
        {
          "output_type": "stream",
          "name": "stdout",
          "text": [
            "Downloading data from https://storage.googleapis.com/tensorflow/tf-keras-datasets/mnist.npz\n",
            "11490434/11490434 [==============================] - 2s 0us/step\n"
          ]
        }
      ]
    },
    {
      "cell_type": "code",
      "source": [
        "plt.imshow(X_train[0])"
      ],
      "metadata": {
        "colab": {
          "base_uri": "https://localhost:8080/",
          "height": 447
        },
        "id": "NILY7HLApDy4",
        "outputId": "a858561b-0a59-4c93-ca1d-45afe7f78428"
      },
      "execution_count": 40,
      "outputs": [
        {
          "output_type": "execute_result",
          "data": {
            "text/plain": [
              "<matplotlib.image.AxesImage at 0x7d04840f7370>"
            ]
          },
          "metadata": {},
          "execution_count": 40
        },
        {
          "output_type": "display_data",
          "data": {
            "text/plain": [
              "<Figure size 640x480 with 1 Axes>"
            ],
            "image/png": "[encoded data removed]"
          },
          "metadata": {}
        }
      ]
    },
    {
      "cell_type": "code",
      "source": [
        "y_train[0]"
      ],
      "metadata": {
        "colab": {
          "base_uri": "https://localhost:8080/"
        },
        "id": "ZQ0p6iDJpNL5",
        "outputId": "719d742d-251b-4290-fcf1-d81bdacc123a"
      },
      "execution_count": 41,
      "outputs": [
        {
          "output_type": "execute_result",
          "data": {
            "text/plain": [
              "5"
            ]
          },
          "metadata": {},
          "execution_count": 41
        }
      ]
    },
    {
      "cell_type": "code",
      "source": [
        "eights = X_train[y_train==8]"
      ],
      "metadata": {
        "id": "CvRygFakpTAz"
      },
      "execution_count": 42,
      "outputs": []
    },
    {
      "cell_type": "code",
      "source": [
        "eights.shape"
      ],
      "metadata": {
        "colab": {
          "base_uri": "https://localhost:8080/"
        },
        "id": "i3kG67vrpkkU",
        "outputId": "7a74e7e4-5a19-4269-f663-418bf4fcabdb"
      },
      "execution_count": 43,
      "outputs": [
        {
          "output_type": "execute_result",
          "data": {
            "text/plain": [
              "(5851, 28, 28)"
            ]
          },
          "metadata": {},
          "execution_count": 43
        }
      ]
    },
    {
      "cell_type": "code",
      "source": [
        "plt.imshow(eights[10])"
      ],
      "metadata": {
        "colab": {
          "base_uri": "https://localhost:8080/",
          "height": 447
        },
        "id": "kkKfMJUdpo-B",
        "outputId": "3f409061-72a8-4f5c-f7ce-44c904af7811"
      },
      "execution_count": 44,
      "outputs": [
        {
          "output_type": "execute_result",
          "data": {
            "text/plain": [
              "<matplotlib.image.AxesImage at 0x7d0367110f70>"
            ]
          },
          "metadata": {},
          "execution_count": 44
        },
        {
          "output_type": "display_data",
          "data": {
            "text/plain": [
              "<Figure size 640x480 with 1 Axes>"
            ],
            "image/png": "[encoded data removed]"
          },
          "metadata": {}
        }
      ]
    },
    {
      "cell_type": "code",
      "source": [
        "import tensorflow as tf\n",
        "from tensorflow.keras.layers import Dense,Reshape,Flatten\n",
        "from tensorflow.keras.models import Sequential"
      ],
      "metadata": {
        "id": "xDRwHYrbazfb"
      },
      "execution_count": 29,
      "outputs": []
    },
    {
      "cell_type": "code",
      "source": [
        "disc = Sequential()\n",
        "disc.add(Flatten(input_shape=[28,28]))\n",
        "disc.add(Dense(150,activation='relu'))\n",
        "disc.add(Dense(100,activation='relu'))\n",
        "disc.add(Dense(50,activation ='relu'))\n",
        "disc.add(Dense(1,activation='sigmoid'))\n",
        "\n",
        "disc.compile(loss ='binary_crossentropy',optimizer='adam')"
      ],
      "metadata": {
        "id": "kTuCYJGWcvVU"
      },
      "execution_count": 47,
      "outputs": []
    },
    {
      "cell_type": "code",
      "source": [
        "size = 100\n",
        "gen = Sequential()\n",
        "gen.add(Dense(50,activation='relu',input_shape=[size]))\n",
        "gen.add(Dense(100,activation='relu'))\n",
        "gen.add(Dense(150,activation='relu'))\n",
        "gen.add(Dense(784,activation='relu'))\n",
        "gen.add(Reshape([28,28]))"
      ],
      "metadata": {
        "id": "B_pz8jlZeMsa"
      },
      "execution_count": 48,
      "outputs": []
    },
    {
      "cell_type": "code",
      "source": [
        "GAN = Sequential([gen,disc])"
      ],
      "metadata": {
        "id": "PE8Ywcq2hjYG"
      },
      "execution_count": 49,
      "outputs": []
    },
    {
      "cell_type": "code",
      "source": [
        "disc.trainable = False"
      ],
      "metadata": {
        "id": "iGdeqAFXhuOe"
      },
      "execution_count": 50,
      "outputs": []
    },
    {
      "cell_type": "code",
      "source": [
        "GAN.compile(loss = 'binary_crossentropy',optimizer='adam')"
      ],
      "metadata": {
        "id": "MDBlOXD7h0eD"
      },
      "execution_count": 51,
      "outputs": []
    },
    {
      "cell_type": "code",
      "source": [
        "batch_size = 64"
      ],
      "metadata": {
        "id": "p88S2l3Vj4NF"
      },
      "execution_count": 52,
      "outputs": []
    },
    {
      "cell_type": "code",
      "source": [
        "my_data = eights"
      ],
      "metadata": {
        "id": "r46YKgIfj7UA"
      },
      "execution_count": 53,
      "outputs": []
    },
    {
      "cell_type": "code",
      "source": [
        "dataset = tf.data.Dataset.from_tensor_slices(my_data).shuffle(buffer_size=1000)"
      ],
      "metadata": {
        "id": "SxZSoXkynge7"
      },
      "execution_count": 56,
      "outputs": []
    },
    {
      "cell_type": "code",
      "source": [
        "dataset = dataset.batch(batch_size,drop_remainder=True).prefetch(1)"
      ],
      "metadata": {
        "id": "DpW2l5oQq5kj"
      },
      "execution_count": 59,
      "outputs": []
    },
    {
      "cell_type": "code",
      "source": [
        "epochs = 50"
      ],
      "metadata": {
        "id": "ZCXdd9C1rxqz"
      },
      "execution_count": 86,
      "outputs": []
    },
    {
      "cell_type": "code",
      "source": [
        "GAN.summary()"
      ],
      "metadata": {
        "colab": {
          "base_uri": "https://localhost:8080/"
        },
        "id": "odYZ031_wq6V",
        "outputId": "09979bc3-d674-4d30-a7df-a377c77ee346"
      },
      "execution_count": 61,
      "outputs": [
        {
          "output_type": "stream",
          "name": "stdout",
          "text": [
            "Model: \"sequential_7\"\n",
            "_________________________________________________________________\n",
            " Layer (type)                Output Shape              Param #   \n",
            "=================================================================\n",
            " sequential_6 (Sequential)   (None, 28, 28)            143684    \n",
            "                                                                 \n",
            " sequential_5 (Sequential)   (None, 1)                 137951    \n",
            "                                                                 \n",
            "=================================================================\n",
            "Total params: 281,635\n",
            "Trainable params: 143,684\n",
            "Non-trainable params: 137,951\n",
            "_________________________________________________________________\n"
          ]
        }
      ]
    },
    {
      "cell_type": "code",
      "source": [
        "gen,disc = GAN.layers\n",
        "\n",
        "for epoch in range(epochs):\n",
        "  print(f\"Currently on Epoch{epoch+1}\")\n",
        "  i = 0\n",
        "\n",
        "  for X_batch in dataset:\n",
        "\n",
        "    i = i+1\n",
        "    if i%100 == 0:\n",
        "       print(f\"\\tCurrently on Batch number{i} of (len(my_data)//batch_size)\")\n",
        "\n",
        "\n",
        "    #DISCRIMINATOR Training\n",
        "\n",
        "    noise = tf.random.normal(shape=[batch_size,size])\n",
        "    gen_images = gen(noise)\n",
        "\n",
        "    X_fake_vs_real = tf.concat([gen_images,tf.dtypes.cast(X_batch,tf.float32)],axis=0)\n",
        "\n",
        "    y1 = tf.constant([[0.0]]* batch_size + [[1.0]] * batch_size)\n",
        "    disc.trainable = True\n",
        "\n",
        "    disc.train_on_batch(X_fake_vs_real,y1)\n",
        "\n",
        "\n",
        "    #GENERATOR training\n",
        "    noise = tf.random.normal(shape=[batch_size,size])\n",
        "    y2 = tf.constant([[1.0]]*batch_size)\n",
        "    disc.trainable = False\n",
        "\n",
        "    GAN.train_on_batch(noise,y2)"
      ],
      "metadata": {
        "colab": {
          "base_uri": "https://localhost:8080/"
        },
        "id": "fHyKpTvEx8mY",
        "outputId": "a1eb269f-c869-46d3-c4a2-1468dc9eab67"
      },
      "execution_count": 87,
      "outputs": [
        {
          "output_type": "stream",
          "name": "stdout",
          "text": [
            "Currently on Epoch1\n",
            "Currently on Epoch2\n",
            "Currently on Epoch3\n",
            "Currently on Epoch4\n",
            "Currently on Epoch5\n",
            "Currently on Epoch6\n",
            "Currently on Epoch7\n",
            "Currently on Epoch8\n",
            "Currently on Epoch9\n",
            "Currently on Epoch10\n",
            "Currently on Epoch11\n",
            "Currently on Epoch12\n",
            "Currently on Epoch13\n",
            "Currently on Epoch14\n",
            "Currently on Epoch15\n",
            "Currently on Epoch16\n",
            "Currently on Epoch17\n",
            "Currently on Epoch18\n",
            "Currently on Epoch19\n",
            "Currently on Epoch20\n",
            "Currently on Epoch21\n",
            "Currently on Epoch22\n",
            "Currently on Epoch23\n",
            "Currently on Epoch24\n",
            "Currently on Epoch25\n",
            "Currently on Epoch26\n",
            "Currently on Epoch27\n",
            "Currently on Epoch28\n",
            "Currently on Epoch29\n",
            "Currently on Epoch30\n",
            "Currently on Epoch31\n",
            "Currently on Epoch32\n",
            "Currently on Epoch33\n",
            "Currently on Epoch34\n",
            "Currently on Epoch35\n",
            "Currently on Epoch36\n",
            "Currently on Epoch37\n",
            "Currently on Epoch38\n",
            "Currently on Epoch39\n",
            "Currently on Epoch40\n",
            "Currently on Epoch41\n",
            "Currently on Epoch42\n",
            "Currently on Epoch43\n",
            "Currently on Epoch44\n",
            "Currently on Epoch45\n",
            "Currently on Epoch46\n",
            "Currently on Epoch47\n",
            "Currently on Epoch48\n",
            "Currently on Epoch49\n",
            "Currently on Epoch50\n"
          ]
        }
      ]
    },
    {
      "cell_type": "code",
      "source": [
        "noise = tf.random.normal(shape = [10, size])\n"
      ],
      "metadata": {
        "id": "p7j-c6P92UVa"
      },
      "execution_count": 80,
      "outputs": []
    },
    {
      "cell_type": "code",
      "source": [
        "noise.shape"
      ],
      "metadata": {
        "colab": {
          "base_uri": "https://localhost:8080/"
        },
        "id": "jiUGXP4H20Q4",
        "outputId": "f2ea7537-a907-4e89-fdd6-3a08f3521439"
      },
      "execution_count": 81,
      "outputs": [
        {
          "output_type": "execute_result",
          "data": {
            "text/plain": [
              "TensorShape([10, 100])"
            ]
          },
          "metadata": {},
          "execution_count": 81
        }
      ]
    },
    {
      "cell_type": "code",
      "source": [
        "plt.imshow(noise)"
      ],
      "metadata": {
        "colab": {
          "base_uri": "https://localhost:8080/",
          "height": 130
        },
        "id": "ewg80c5q3Rvq",
        "outputId": "2fa7cc32-4e13-4499-e344-78c2514ee9bf"
      },
      "execution_count": 82,
      "outputs": [
        {
          "output_type": "execute_result",
          "data": {
            "text/plain": [
              "<matplotlib.image.AxesImage at 0x7d03202dba90>"
            ]
          },
          "metadata": {},
          "execution_count": 82
        },
        {
          "output_type": "display_data",
          "data": {
            "text/plain": [
              "<Figure size 640x480 with 1 Axes>"
            ],
            "image/png": "[encoded data removed]"
          },
          "metadata": {}
        }
      ]
    },
    {
      "cell_type": "code",
      "source": [
        "images = gen(noise)"
      ],
      "metadata": {
        "id": "4WJ3mZmr3Yxw"
      },
      "execution_count": 88,
      "outputs": []
    },
    {
      "cell_type": "code",
      "source": [
        "images.shape"
      ],
      "metadata": {
        "colab": {
          "base_uri": "https://localhost:8080/"
        },
        "id": "35B95Trh3edj",
        "outputId": "f4635001-016e-46cc-e47e-49a90fb8441e"
      },
      "execution_count": 89,
      "outputs": [
        {
          "output_type": "execute_result",
          "data": {
            "text/plain": [
              "TensorShape([64, 28, 28])"
            ]
          },
          "metadata": {},
          "execution_count": 89
        }
      ]
    },
    {
      "cell_type": "code",
      "source": [
        "plt.imshow(images[1])"
      ],
      "metadata": {
        "colab": {
          "base_uri": "https://localhost:8080/",
          "height": 447
        },
        "id": "CQT1zKLr3jLK",
        "outputId": "b36fd27f-6fd8-4a6b-dbc8-98c858f09465"
      },
      "execution_count": 90,
      "outputs": [
        {
          "output_type": "execute_result",
          "data": {
            "text/plain": [
              "<matplotlib.image.AxesImage at 0x7d0320406950>"
            ]
          },
          "metadata": {},
          "execution_count": 90
        },
        {
          "output_type": "display_data",
          "data": {
            "text/plain": [
              "<Figure size 640x480 with 1 Axes>"
            ],
            "image/png": "[encoded data removed]"
          },
          "metadata": {}
        }
      ]
    }
  ]
}